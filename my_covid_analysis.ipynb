{
 "cells": [
  {
   "cell_type": "markdown",
   "metadata": {},
   "source": [
    "# Web Scrapping COVID-19 data from Worldometer website and analyzing the data."
   ]
  },
  {
   "cell_type": "code",
   "execution_count": 6,
   "metadata": {},
   "outputs": [],
   "source": [
    "#IMPORTING LIBRARIES\n",
    "import requests\n",
    "import numpy as np\n",
    "import pandas as pd\n",
    "from bs4 import BeautifulSoup\n",
    "import plotly.graph_objs as go\n",
    "from plotly.plotly import iplot\n",
    "import plotly as py\n",
    "from datetime import datetime\n",
    "py.tools.set_credentials_file(username='Bidap.a', api_key='DR0sCpf1qd6cqn1ktoB0')\n",
    "pd.set_option('display.max_rows', 5000)"
   ]
  },
  {
   "cell_type": "code",
   "execution_count": 7,
   "metadata": {},
   "outputs": [],
   "source": [
    "#scraping data.\n",
    "def scrap_table(link,id):\n",
    "    results = requests.get(link)\n",
    "    print(results)\n",
    "    src = results.content\n",
    "    soup = BeautifulSoup(src,'lxml')\n",
    "    table_tag = soup.find(\"table\", {\"id\" : id})\n",
    "    columns = [th.text for th in table_tag.findAll('th')]\n",
    "    rows_tags = table_tag.tbody.findAll('tr')\n",
    "    rows = []\n",
    "    for row_tag in rows_tags:\n",
    "        row = [col.text for col in row_tag.findAll('td')]\n",
    "        rows.append(row)\n",
    "    my_data = pd.DataFrame(rows,columns=columns)\n",
    "    return my_data"
   ]
  },
  {
   "cell_type": "code",
   "execution_count": 8,
   "metadata": {},
   "outputs": [],
   "source": [
    "#data cleaning\n",
    "def clean_my_data(to_clean_data):\n",
    "    for i in to_clean_data:\n",
    "        to_clean_data[i] = [x.strip('\\n') for x in to_clean_data[i]]\n",
    "        to_clean_data[i] = [x.strip('+') for x in to_clean_data[i]]\n",
    "        to_clean_data[i] = to_clean_data[i].str.replace(',','')\n",
    "    to_clean_data = to_clean_data.replace(r'^\\s*$', np.nan, regex=True)\n",
    "    to_clean_data.replace(np.nan,0,inplace=True)\n",
    "    return to_clean_data"
   ]
  },
  {
   "cell_type": "markdown",
   "metadata": {},
   "source": [
    "# World COVID DATA ANALYSIS AS OF TODAY.."
   ]
  },
  {
   "cell_type": "code",
   "execution_count": 9,
   "metadata": {},
   "outputs": [
    {
     "name": "stdout",
     "output_type": "stream",
     "text": [
      "<Response [200]>\n"
     ]
    }
   ],
   "source": [
    "my_data = scrap_table(\"https://www.worldometers.info/coronavirus/\",'main_table_countries_today')"
   ]
  },
  {
   "cell_type": "code",
   "execution_count": 10,
   "metadata": {},
   "outputs": [],
   "source": [
    "my_data = clean_my_data(my_data)"
   ]
  },
  {
   "cell_type": "code",
   "execution_count": 11,
   "metadata": {},
   "outputs": [],
   "source": [
    "for i in my_data:\n",
    "    if i not in ['Country,Other','Reported1st case']:\n",
    "        my_data[i]= my_data[i].apply(pd.to_numeric)"
   ]
  },
  {
   "cell_type": "code",
   "execution_count": 31,
   "metadata": {},
   "outputs": [],
   "source": [
    "ships = ['Diamond Princess','MS Zaandam']\n",
    "my_data_ships = my_data[my_data['Country,Other'].isin(ships)]\n",
    "my_data = my_data[~my_data['Country,Other'].isin(ships)]\n",
    "\n",
    "my_data1 = my_data.sort_values('TotalCases',ascending=False).nlargest(30,'TotalCases')\n",
    "my_data2 = my_data.sort_values('NewCases',ascending=False).nlargest(30,'NewCases')"
   ]
  },
  {
   "cell_type": "code",
   "execution_count": 32,
   "metadata": {},
   "outputs": [],
   "source": [
    "my_data1 = my_data.sort_values('TotalCases',ascending=False).nlargest(30,'TotalCases')\n",
    "# create trace1 \n",
    "trace1 = go.Bar(\n",
    "                x = my_data1['Country,Other'],\n",
    "                y = my_data1['TotalCases'],\n",
    "                name = \"TotalCases\",\n",
    "                marker = dict(color = 'rgb(227,26,28)',\n",
    "                             line=dict(color='rgb(227,26,28)',width=1.5)),\n",
    "                text = my_data1['Country,Other'])\n",
    "trace2 = go.Bar(\n",
    "                x = my_data1['Country,Other'],\n",
    "                y = my_data1['TotalDeaths'],\n",
    "                name = \"TotalDeaths\",\n",
    "                marker = dict(color = 'rgb(51,160,44)',\n",
    "                             line=dict(color='rgb(51,160,44)',width=1.5)),\n",
    "                text = my_data1['Country,Other'])\n",
    "trace3 = go.Bar(\n",
    "                x = my_data1['Country,Other'],\n",
    "                y = my_data1['TotalRecovered'],\n",
    "                name = \"TotalRecovered\",\n",
    "                marker = dict(color = 'rgb(166,206,300)',\n",
    "                             line=dict(color='rgb(166,206,227)',width=1.5)),\n",
    "                text = my_data1['Country,Other'])\n",
    "\n",
    "trace4 = go.Bar(\n",
    "                x = my_data2['Country,Other'],\n",
    "                y = my_data2['NewCases'],\n",
    "                name = \"NewCases\",\n",
    "                marker = dict(color = 'rgb(227,26,28)',\n",
    "                             line=dict(color='rgb(227,26,28)',width=1.5)),\n",
    "                text = my_data2['Country,Other'])\n",
    "trace5 = go.Bar(\n",
    "                x = my_data2['Country,Other'],\n",
    "                y = my_data2['NewDeaths'],\n",
    "                name = \"NewDeaths\",\n",
    "                marker = dict(color = 'rgb(51,160,44)',\n",
    "                             line=dict(color='rgb(51,160,44)',width=1.5)),\n",
    "                text = my_data2['Country,Other'])"
   ]
  },
  {
   "cell_type": "code",
   "execution_count": 33,
   "metadata": {},
   "outputs": [
    {
     "name": "stderr",
     "output_type": "stream",
     "text": [
      "/Users/abhishekbidap/opt/anaconda3/lib/python3.7/site-packages/IPython/core/display.py:694: UserWarning:\n",
      "\n",
      "Consider using IPython.display.IFrame instead\n",
      "\n"
     ]
    },
    {
     "data": {
      "text/html": [
       "<iframe id=\"igraph\" scrolling=\"no\" style=\"border:none;\" seamless=\"seamless\" src=\"https://plot.ly/~bidap.a/248.embed\" height=\"525px\" width=\"100%\"></iframe>"
      ],
      "text/plain": [
       "<chart_studio.tools.PlotlyDisplay object>"
      ]
     },
     "execution_count": 33,
     "metadata": {},
     "output_type": "execute_result"
    }
   ],
   "source": [
    "data = [trace1,trace2,trace3]\n",
    "layout = go.Layout(barmode = \"group\",title = 'Values for Top 30 Majorly Impacted Countries.')\n",
    "fig = go.Figure(data = data, layout = layout)\n",
    "iplot(fig)"
   ]
  },
  {
   "cell_type": "markdown",
   "metadata": {},
   "source": [
    "# VALUES FOR TOP 30 CASES FOR TODAY..!!"
   ]
  },
  {
   "cell_type": "code",
   "execution_count": 34,
   "metadata": {},
   "outputs": [
    {
     "data": {
      "text/html": [
       "<iframe id=\"igraph\" scrolling=\"no\" style=\"border:none;\" seamless=\"seamless\" src=\"https://plot.ly/~bidap.a/250.embed\" height=\"525px\" width=\"100%\"></iframe>"
      ],
      "text/plain": [
       "<chart_studio.tools.PlotlyDisplay object>"
      ]
     },
     "execution_count": 34,
     "metadata": {},
     "output_type": "execute_result"
    }
   ],
   "source": [
    "data = [trace4,trace5]\n",
    "layout = go.Layout(barmode = \"group\",title='Values for Top 30 Country Cases for Today.')\n",
    "fig = go.Figure(data = data, layout = layout)\n",
    "iplot(fig)"
   ]
  },
  {
   "cell_type": "markdown",
   "metadata": {},
   "source": [
    "# Percentage Wise Analysis of the Total COVID-19 Cases."
   ]
  },
  {
   "cell_type": "code",
   "execution_count": 35,
   "metadata": {},
   "outputs": [
    {
     "data": {
      "text/html": [
       "<iframe id=\"igraph\" scrolling=\"no\" style=\"border:none;\" seamless=\"seamless\" src=\"https://plot.ly/~bidap.a/252.embed\" height=\"525px\" width=\"100%\"></iframe>"
      ],
      "text/plain": [
       "<chart_studio.tools.PlotlyDisplay object>"
      ]
     },
     "execution_count": 35,
     "metadata": {},
     "output_type": "execute_result"
    }
   ],
   "source": [
    "#pie plot of Active Recovered and Death Cases.\n",
    "Active_cases = my_data.ActiveCases.sum()\n",
    "total_recover = my_data.TotalRecovered.sum()\n",
    "total_deaths = my_data.TotalDeaths.sum()\n",
    "\n",
    "total = ['Active Cases', 'Total Deaths', 'Total Recovered']\n",
    "values = [Active_cases,total_deaths,total_recover]\n",
    "\n",
    "import plotly.graph_objs as go\n",
    "data1 = {\n",
    "   \"values\": values,\n",
    "   \"labels\": total,\n",
    "   \"domain\": {\"column\": 0},\n",
    "   \"name\": \"COVID-19 Cases\",\n",
    "   #\"hoverinfo\":\"label+percent+name\",\n",
    "   \"hole\": .4,\n",
    "   \"type\": \"pie\"\n",
    "}\n",
    "data = [data1]\n",
    "layout = go.Layout(\n",
    "   {\n",
    "      \"title\":\"Total COVID-19 Cases\",\n",
    "      \"grid\": {\"rows\": 1, \"columns\": 2},\n",
    "      \"annotations\": [\n",
    "         {\n",
    "            \"font\": {\n",
    "               \"size\": 20\n",
    "            },\n",
    "            \"showarrow\": False,\n",
    "            \"text\":'Total Cases',\n",
    "            \"x\": 0.16,\n",
    "            \"y\": 0.5\n",
    "         },\n",
    "         {\n",
    "            \"font\": {\n",
    "               \"size\": 20\n",
    "            },\n",
    "            \"showarrow\": False,\n",
    "            \"text\": \"\",\n",
    "            \"x\": 0.8,\n",
    "            \"y\": 0.5\n",
    "         }\n",
    "      ]\n",
    "   }\n",
    ")\n",
    "fig = go.Figure(data = data, layout = layout)\n",
    "iplot(fig)"
   ]
  },
  {
   "cell_type": "markdown",
   "metadata": {},
   "source": [
    "# Further Targeting the Country with maximum Cases:  UNITED STATES"
   ]
  },
  {
   "cell_type": "code",
   "execution_count": 36,
   "metadata": {},
   "outputs": [
    {
     "name": "stdout",
     "output_type": "stream",
     "text": [
      "<Response [200]>\n"
     ]
    }
   ],
   "source": [
    "us_data_today = scrap_table('https://www.worldometers.info/coronavirus/country/us/','usa_table_countries_today')"
   ]
  },
  {
   "cell_type": "code",
   "execution_count": 37,
   "metadata": {},
   "outputs": [],
   "source": [
    "us_data = clean_my_data(us_data_today)"
   ]
  },
  {
   "cell_type": "code",
   "execution_count": 38,
   "metadata": {},
   "outputs": [
    {
     "data": {
      "text/html": [
       "<iframe id=\"igraph\" scrolling=\"no\" style=\"border:none;\" seamless=\"seamless\" src=\"https://plot.ly/~bidap.a/254.embed\" height=\"525px\" width=\"100%\"></iframe>"
      ],
      "text/plain": [
       "<chart_studio.tools.PlotlyDisplay object>"
      ]
     },
     "execution_count": 38,
     "metadata": {},
     "output_type": "execute_result"
    }
   ],
   "source": [
    "country = us_data.columns[0]\n",
    "\n",
    "trace6 = go.Bar(\n",
    "                x = us_data[country],\n",
    "                y = us_data['TotalCases'],\n",
    "                name = \"TotalCases\",\n",
    "                marker = dict(color = 'rgb(227,26,28)',\n",
    "                             line=dict(color='rgb(227,26,28)',width=1.5)),\n",
    "                text = us_data[country])\n",
    "trace7 = go.Bar(\n",
    "                x = us_data[country],\n",
    "                y = us_data['TotalDeaths'],\n",
    "                name = \"TotalDeaths\",\n",
    "                marker = dict(color = 'rgb(51,160,44)',\n",
    "                             line=dict(color='rgb(51,160,44)',width=1.5)),\n",
    "                text = us_data[country])\n",
    "trace8 = go.Bar(\n",
    "                x = us_data[country],\n",
    "                y = us_data['NewCases'],\n",
    "                name = \"NewCases\",\n",
    "                marker = dict(color = 'rgb(51,160,44)',\n",
    "                             line=dict(color='rgb(51,160,44)',width=1.5)),\n",
    "                text = us_data[country])\n",
    "trace9 = go.Bar(\n",
    "                x = us_data[country],\n",
    "                y = us_data['NewDeaths'],\n",
    "                name = \"NewDeaths\",\n",
    "                marker = dict(color = 'rgb(166,206,300)',\n",
    "                             line=dict(color='rgb(166,206,300)',width=1.5)),\n",
    "                text = us_data[country])\n",
    "\n",
    "data = [trace6,trace7]\n",
    "layout = go.Layout(barmode = \"group\",title='United States: Total Data Till Date.')\n",
    "fig = go.Figure(data = data, layout = layout)\n",
    "iplot(fig)"
   ]
  },
  {
   "cell_type": "markdown",
   "metadata": {},
   "source": [
    "1. New York being the Most widely impacted State in the United States."
   ]
  },
  {
   "cell_type": "code",
   "execution_count": 21,
   "metadata": {},
   "outputs": [
    {
     "data": {
      "text/html": [
       "<iframe id=\"igraph\" scrolling=\"no\" style=\"border:none;\" seamless=\"seamless\" src=\"https://plot.ly/~bidap.a/246.embed\" height=\"525px\" width=\"100%\"></iframe>"
      ],
      "text/plain": [
       "<chart_studio.tools.PlotlyDisplay object>"
      ]
     },
     "execution_count": 21,
     "metadata": {},
     "output_type": "execute_result"
    }
   ],
   "source": [
    "data = [trace8,trace9]\n",
    "layout = go.Layout(barmode = \"group\",title='United States: New Cases Data for Today.')\n",
    "fig = go.Figure(data = data, layout = layout)\n",
    "iplot(fig)"
   ]
  },
  {
   "cell_type": "markdown",
   "metadata": {},
   "source": [
    "# Countries Working In Full Fledge and Recovering 50% of the Total Impacted."
   ]
  },
  {
   "cell_type": "code",
   "execution_count": 39,
   "metadata": {},
   "outputs": [],
   "source": [
    "data_recovered_filtered = my_data.loc[((my_data['TotalRecovered'])/my_data['TotalCases']) > 0.5,['Country,Other','TotalCases','TotalRecovered']]"
   ]
  },
  {
   "cell_type": "code",
   "execution_count": 40,
   "metadata": {},
   "outputs": [],
   "source": [
    "data_recovered_filtered = data_recovered_filtered.sort_values('TotalCases',ascending=False)"
   ]
  },
  {
   "cell_type": "code",
   "execution_count": 41,
   "metadata": {},
   "outputs": [],
   "source": [
    "data_recovered_filtered['TotalRemaining'] = data_recovered_filtered['TotalCases'] - data_recovered_filtered['TotalRecovered']"
   ]
  },
  {
   "cell_type": "code",
   "execution_count": 48,
   "metadata": {},
   "outputs": [],
   "source": [
    "data_recovered_filtered = data_recovered_filtered.sort_values('TotalRemaining')"
   ]
  },
  {
   "cell_type": "code",
   "execution_count": 43,
   "metadata": {},
   "outputs": [
    {
     "data": {
      "text/html": [
       "<iframe id=\"igraph\" scrolling=\"no\" style=\"border:none;\" seamless=\"seamless\" src=\"https://plot.ly/~bidap.a/256.embed\" height=\"525px\" width=\"100%\"></iframe>"
      ],
      "text/plain": [
       "<chart_studio.tools.PlotlyDisplay object>"
      ]
     },
     "execution_count": 43,
     "metadata": {},
     "output_type": "execute_result"
    }
   ],
   "source": [
    "fig = go.Figure(data=[go.Table(\n",
    "    header=dict(values=list(data_recovered_filtered.columns),\n",
    "                fill_color='paleturquoise',\n",
    "                align='left'),\n",
    "    cells=dict(values=[data_recovered_filtered['Country,Other'],data_recovered_filtered['TotalCases'],\n",
    "                       data_recovered_filtered['TotalRecovered'],data_recovered_filtered['TotalRemaining']],\n",
    "               fill_color='lavender',\n",
    "               align='left'))\n",
    "])\n",
    "\n",
    "iplot(fig)"
   ]
  },
  {
   "cell_type": "markdown",
   "metadata": {},
   "source": [
    "# With the above Country data also impacted cases are found in the 2 cruises.\n",
    "\n",
    "# Diamond Princess :\n",
    "1.British-registered cruise ship owned and operated by Princess Cruises.<br>\n",
    "2.Approx 3,711 passengers and crew members on board.\n",
    "\n",
    "# MS Zaandam:\n",
    "1.Cruise ship owned and operated by Holland America Line.<br>\n"
   ]
  },
  {
   "cell_type": "code",
   "execution_count": 62,
   "metadata": {},
   "outputs": [
    {
     "name": "stderr",
     "output_type": "stream",
     "text": [
      "/Users/abhishekbidap/opt/anaconda3/lib/python3.7/site-packages/IPython/core/display.py:694: UserWarning:\n",
      "\n",
      "Consider using IPython.display.IFrame instead\n",
      "\n"
     ]
    },
    {
     "data": {
      "text/html": [
       "<iframe id=\"igraph\" scrolling=\"no\" style=\"border:none;\" seamless=\"seamless\" src=\"https://plot.ly/~bidap.a/284.embed\" height=\"525px\" width=\"100%\"></iframe>"
      ],
      "text/plain": [
       "<chart_studio.tools.PlotlyDisplay object>"
      ]
     },
     "execution_count": 62,
     "metadata": {},
     "output_type": "execute_result"
    }
   ],
   "source": [
    "fig = go.Figure(data=[go.Table(\n",
    "    header=dict(values=list(my_data_ships.columns),\n",
    "                fill_color='paleturquoise',\n",
    "                align='left'),\n",
    "    cells=dict(values=[my_data_ships['Country,Other'],my_data_ships['TotalCases'],\n",
    "                       my_data_ships['NewCases'],my_data_ships['TotalDeaths'],my_data_ships['NewDeaths'],my_data_ships['TotalRecovered']],\n",
    "               fill_color='lavender',\n",
    "               align='left'))\n",
    "])\n",
    "\n",
    "iplot(fig)"
   ]
  },
  {
   "cell_type": "code",
   "execution_count": 58,
   "metadata": {},
   "outputs": [
    {
     "data": {
      "text/html": [
       "<div>\n",
       "<style scoped>\n",
       "    .dataframe tbody tr th:only-of-type {\n",
       "        vertical-align: middle;\n",
       "    }\n",
       "\n",
       "    .dataframe tbody tr th {\n",
       "        vertical-align: top;\n",
       "    }\n",
       "\n",
       "    .dataframe thead th {\n",
       "        text-align: right;\n",
       "    }\n",
       "</style>\n",
       "<table border=\"1\" class=\"dataframe\">\n",
       "  <thead>\n",
       "    <tr style=\"text-align: right;\">\n",
       "      <th></th>\n",
       "      <th>Country,Other</th>\n",
       "      <th>TotalCases</th>\n",
       "      <th>NewCases</th>\n",
       "      <th>TotalDeaths</th>\n",
       "      <th>NewDeaths</th>\n",
       "      <th>TotalRecovered</th>\n",
       "      <th>ActiveCases</th>\n",
       "      <th>Serious,Critical</th>\n",
       "      <th>Tot Cases/1M pop</th>\n",
       "      <th>Deaths/1M pop</th>\n",
       "    </tr>\n",
       "  </thead>\n",
       "  <tbody>\n",
       "    <tr>\n",
       "      <td>60</td>\n",
       "      <td>Diamond Princess</td>\n",
       "      <td>712</td>\n",
       "      <td>0</td>\n",
       "      <td>11</td>\n",
       "      <td>0</td>\n",
       "      <td>619</td>\n",
       "      <td>82</td>\n",
       "      <td>10</td>\n",
       "      <td>0.0</td>\n",
       "      <td>0.0</td>\n",
       "    </tr>\n",
       "    <tr>\n",
       "      <td>171</td>\n",
       "      <td>MS Zaandam</td>\n",
       "      <td>9</td>\n",
       "      <td>0</td>\n",
       "      <td>2</td>\n",
       "      <td>0</td>\n",
       "      <td>0</td>\n",
       "      <td>7</td>\n",
       "      <td>0</td>\n",
       "      <td>0.0</td>\n",
       "      <td>0.0</td>\n",
       "    </tr>\n",
       "  </tbody>\n",
       "</table>\n",
       "</div>"
      ],
      "text/plain": [
       "        Country,Other  TotalCases  NewCases  TotalDeaths  NewDeaths  \\\n",
       "60   Diamond Princess         712         0           11          0   \n",
       "171        MS Zaandam           9         0            2          0   \n",
       "\n",
       "     TotalRecovered  ActiveCases  Serious,Critical  Tot Cases/1M pop  \\\n",
       "60              619           82                10               0.0   \n",
       "171               0            7                 0               0.0   \n",
       "\n",
       "     Deaths/1M pop  \n",
       "60             0.0  \n",
       "171            0.0  "
      ]
     },
     "execution_count": 58,
     "metadata": {},
     "output_type": "execute_result"
    }
   ],
   "source": [
    "my_data_ships"
   ]
  },
  {
   "cell_type": "code",
   "execution_count": null,
   "metadata": {},
   "outputs": [],
   "source": []
  }
 ],
 "metadata": {
  "kernelspec": {
   "display_name": "Python 3",
   "language": "python",
   "name": "python3"
  },
  "language_info": {
   "codemirror_mode": {
    "name": "ipython",
    "version": 3
   },
   "file_extension": ".py",
   "mimetype": "text/x-python",
   "name": "python",
   "nbconvert_exporter": "python",
   "pygments_lexer": "ipython3",
   "version": "3.7.4"
  }
 },
 "nbformat": 4,
 "nbformat_minor": 2
}
